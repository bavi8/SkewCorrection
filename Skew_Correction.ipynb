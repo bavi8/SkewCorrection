{
  "nbformat": 4,
  "nbformat_minor": 0,
  "metadata": {
    "colab": {
      "provenance": [],
      "authorship_tag": "ABX9TyO2RuUcKuS7HUUU6G4IFC3Z",
      "include_colab_link": true
    },
    "kernelspec": {
      "name": "python3",
      "display_name": "Python 3"
    },
    "language_info": {
      "name": "python"
    }
  },
  "cells": [
    {
      "cell_type": "markdown",
      "metadata": {
        "id": "view-in-github",
        "colab_type": "text"
      },
      "source": [
        "<a href=\"https://colab.research.google.com/github/bavi8/SkewCorrection/blob/main/Skew_Correction.ipynb\" target=\"_parent\"><img src=\"https://colab.research.google.com/assets/colab-badge.svg\" alt=\"Open In Colab\"/></a>"
      ]
    },
    {
      "cell_type": "markdown",
      "source": [],
      "metadata": {
        "id": "6JT8xe6ZNJ-_"
      }
    },
    {
      "cell_type": "code",
      "execution_count": null,
      "metadata": {
        "colab": {
          "base_uri": "https://localhost:8080/"
        },
        "id": "F4ssh0vgmsX5",
        "outputId": "94867b2e-568b-46c1-dbb5-de8f7bbf8dbc"
      },
      "outputs": [
        {
          "output_type": "stream",
          "name": "stdout",
          "text": [
            "Skew corrected by -20.42 degrees. Corrected image saved at /images (3).png\n"
          ]
        }
      ],
      "source": [
        "import cv2\n",
        "import numpy as np\n",
        "\n",
        "def correct_skew(image_path, output_path):\n",
        "    # Load the image\n",
        "    image = cv2.imread(image_path, cv2.IMREAD_GRAYSCALE)\n",
        "    if image is None:\n",
        "        raise ValueError(\"Image not found or unable to load!\")\n",
        "\n",
        "    # Invert the image (black text on white background)\n",
        "    inverted = cv2.bitwise_not(image)\n",
        "\n",
        "    # Use binary thresholding\n",
        "    _, binary = cv2.threshold(inverted, 0, 255, cv2.THRESH_BINARY | cv2.THRESH_OTSU)\n",
        "\n",
        "    # Find contours of the image\n",
        "    coords = np.column_stack(np.where(binary > 0))\n",
        "    angle = cv2.minAreaRect(coords)[-1]\n",
        "\n",
        "\n",
        "    # Correct angle\n",
        "    if angle < -45:\n",
        "        angle = -(90 + angle)\n",
        "    else:\n",
        "        angle = -angle\n",
        "\n",
        "    # Get the rotation matrix\n",
        "    (h, w) = image.shape\n",
        "    center = (w // 2, h // 2)\n",
        "    rotation_matrix = cv2.getRotationMatrix2D(center, angle, 1.0)\n",
        "\n",
        "    # Perform the affine transformation\n",
        "    rotated = cv2.warpAffine(image, rotation_matrix, (w, h), flags=cv2.INTER_CUBIC, borderMode=cv2.BORDER_REPLICATE)\n",
        "\n",
        "    # Save the corrected image\n",
        "    cv2.imwrite(output_path, rotated)\n",
        "\n",
        "    print(f\"Skew corrected by {angle:.2f} degrees. Corrected image saved at {output_path}\")\n",
        "\n",
        "# Example usage\n",
        "input_image = \"/images (3).png\"\n",
        "output_image = \"/images (3).png\"\n",
        "correct_skew(input_image, output_image)"
      ]
    }
  ]
}